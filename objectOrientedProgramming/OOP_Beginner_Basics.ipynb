{
  "nbformat": 4,
  "nbformat_minor": 0,
  "metadata": {
    "colab": {
      "name": "OOP Beginner - Basics.ipynb",
      "provenance": []
    },
    "kernelspec": {
      "name": "python3",
      "display_name": "Python 3"
    },
    "language_info": {
      "name": "python"
    }
  },
  "cells": [
    {
      "cell_type": "markdown",
      "source": [
        "## Creating Class"
      ],
      "metadata": {
        "id": "3e1pc20cQhlC"
      }
    },
    {
      "cell_type": "code",
      "execution_count": null,
      "metadata": {
        "id": "MDbuh6rJOkZz"
      },
      "outputs": [],
      "source": [
        "class Student:\n",
        "  name = 'Sahil'\n",
        "  age = 22\n",
        "\n",
        "  def join_class(self):\n",
        "    print('The student has joined the class')\n"
      ]
    },
    {
      "cell_type": "code",
      "source": [
        "print(Student) # it's a class / template / blueprint"
      ],
      "metadata": {
        "colab": {
          "base_uri": "https://localhost:8080/"
        },
        "id": "UpEIVdjpPsQw",
        "outputId": "aec8980b-7705-43b5-d300-b06e1cd4b847"
      },
      "execution_count": null,
      "outputs": [
        {
          "output_type": "stream",
          "name": "stdout",
          "text": [
            "<class '__main__.Student'>\n"
          ]
        }
      ]
    },
    {
      "cell_type": "markdown",
      "source": [
        "## Creating Object"
      ],
      "metadata": {
        "id": "9z2j-DSvQmpi"
      }
    },
    {
      "cell_type": "code",
      "source": [
        "s = Student()"
      ],
      "metadata": {
        "id": "q7jK26CyPxoO"
      },
      "execution_count": null,
      "outputs": []
    },
    {
      "cell_type": "code",
      "source": [
        "print(s)"
      ],
      "metadata": {
        "colab": {
          "base_uri": "https://localhost:8080/"
        },
        "id": "Mk1gWK5JP9qD",
        "outputId": "227349a4-fa1a-45bb-c3fe-0fbe696e307b"
      },
      "execution_count": null,
      "outputs": [
        {
          "output_type": "stream",
          "name": "stdout",
          "text": [
            "<__main__.Student object at 0x7f6dba90a790>\n"
          ]
        }
      ]
    },
    {
      "cell_type": "markdown",
      "source": [
        "## Access Data\n"
      ],
      "metadata": {
        "id": "x7VhUJFuQoZG"
      }
    },
    {
      "cell_type": "code",
      "source": [
        "print(s.name)"
      ],
      "metadata": {
        "colab": {
          "base_uri": "https://localhost:8080/"
        },
        "id": "l0xgWpKDP_FN",
        "outputId": "0c6c5420-5e89-48c1-a55f-048c7f71ef95"
      },
      "execution_count": null,
      "outputs": [
        {
          "output_type": "stream",
          "name": "stdout",
          "text": [
            "Sahil\n"
          ]
        }
      ]
    },
    {
      "cell_type": "code",
      "source": [
        "print(s.age)"
      ],
      "metadata": {
        "colab": {
          "base_uri": "https://localhost:8080/"
        },
        "id": "HHzDZIF6Qtge",
        "outputId": "2146979f-baa1-40dd-8d2f-708c6ddbca25"
      },
      "execution_count": null,
      "outputs": [
        {
          "output_type": "stream",
          "name": "stdout",
          "text": [
            "22\n"
          ]
        }
      ]
    },
    {
      "cell_type": "markdown",
      "source": [
        "## Access the method"
      ],
      "metadata": {
        "id": "Khkqhgy4RxfP"
      }
    },
    {
      "cell_type": "code",
      "source": [
        "s.join_class()"
      ],
      "metadata": {
        "colab": {
          "base_uri": "https://localhost:8080/"
        },
        "id": "D5fo2Hp1Qu-a",
        "outputId": "67523527-bdb4-49df-d91e-62c3e250af02"
      },
      "execution_count": null,
      "outputs": [
        {
          "output_type": "stream",
          "name": "stdout",
          "text": [
            "The student has joined the class\n"
          ]
        }
      ]
    },
    {
      "cell_type": "markdown",
      "source": [
        "## Print type\n"
      ],
      "metadata": {
        "id": "8dkjFo1tTOjx"
      }
    },
    {
      "cell_type": "code",
      "source": [
        "print(type(s))"
      ],
      "metadata": {
        "colab": {
          "base_uri": "https://localhost:8080/"
        },
        "id": "vZgScxKuTPbl",
        "outputId": "9efffd03-6f29-4328-b9ee-0e2708cb31aa"
      },
      "execution_count": null,
      "outputs": [
        {
          "output_type": "stream",
          "name": "stdout",
          "text": [
            "<class '__main__.Student'>\n"
          ]
        }
      ]
    },
    {
      "cell_type": "markdown",
      "source": [
        ""
      ],
      "metadata": {
        "id": "bzNV6wPShGpg"
      }
    },
    {
      "cell_type": "code",
      "source": [
        "l = list()\n",
        "l.append(5)\n",
        "print(type(l))"
      ],
      "metadata": {
        "colab": {
          "base_uri": "https://localhost:8080/"
        },
        "id": "iHhn5oaYTQuE",
        "outputId": "0655909f-15aa-4cfe-9413-47968b90f5c9"
      },
      "execution_count": null,
      "outputs": [
        {
          "output_type": "stream",
          "name": "stdout",
          "text": [
            "<class 'list'>\n"
          ]
        }
      ]
    },
    {
      "cell_type": "markdown",
      "source": [
        "## Understanding Object Reference: self"
      ],
      "metadata": {
        "id": "cyC51B6ZVLz4"
      }
    },
    {
      "cell_type": "code",
      "source": [
        "class Student:\n",
        "  name = 'Sahil'\n",
        "  age = 22\n",
        "\n",
        "  def join_class(self):\n",
        "    # print('self printed inside the function call:', self)\n",
        "    print('The student has joined the class')\n",
        "\n",
        "s = Student()\n",
        "# print(s.name)\n",
        "# print(s.age)\n",
        "\n",
        "# print('s printed before the function call:', s)\n",
        "s.join_class()\n"
      ],
      "metadata": {
        "colab": {
          "base_uri": "https://localhost:8080/"
        },
        "id": "0yGd4TCZTWFF",
        "outputId": "2c5c4a84-b95a-4402-8280-fd7760bccbf6"
      },
      "execution_count": null,
      "outputs": [
        {
          "output_type": "stream",
          "name": "stdout",
          "text": [
            "Sahil\n",
            "22\n",
            "s printed before the function call: <__main__.Student object at 0x7f6dba9f2950>\n",
            "self printed inside the function call: <__main__.Student object at 0x7f6dba9f2950>\n",
            "The student has joined the class\n"
          ]
        }
      ]
    },
    {
      "cell_type": "code",
      "source": [
        ""
      ],
      "metadata": {
        "id": "gEL-hx0AVO6Z"
      },
      "execution_count": null,
      "outputs": []
    },
    {
      "cell_type": "markdown",
      "source": [
        "## 2nd Object"
      ],
      "metadata": {
        "id": "roSkyFC-WGc9"
      }
    },
    {
      "cell_type": "code",
      "source": [
        "s2 = Student()\n"
      ],
      "metadata": {
        "id": "bytJ0KMuWHRX"
      },
      "execution_count": null,
      "outputs": []
    },
    {
      "cell_type": "code",
      "source": [
        "print(s2.name)\n",
        "print(s2.age)"
      ],
      "metadata": {
        "colab": {
          "base_uri": "https://localhost:8080/"
        },
        "id": "II8DK9RZWJgb",
        "outputId": "cb48982e-daec-45c2-8f81-d2f5f9944318"
      },
      "execution_count": null,
      "outputs": [
        {
          "output_type": "stream",
          "name": "stdout",
          "text": [
            "Sahil\n",
            "22\n"
          ]
        }
      ]
    },
    {
      "cell_type": "markdown",
      "source": [
        "## Update the data for the object"
      ],
      "metadata": {
        "id": "PaMYAyNOZJ8o"
      }
    },
    {
      "cell_type": "code",
      "source": [
        "s2.name = 'Ganesh'\n",
        "s2.age = 25"
      ],
      "metadata": {
        "id": "ND1BAzsJWKrs"
      },
      "execution_count": null,
      "outputs": []
    },
    {
      "cell_type": "code",
      "source": [
        "print(s2.name)\n",
        "print(s2.age)"
      ],
      "metadata": {
        "colab": {
          "base_uri": "https://localhost:8080/"
        },
        "id": "4FiO3vo7WQN6",
        "outputId": "c757dc8a-d7bf-4c04-dc0b-c4955cdff535"
      },
      "execution_count": null,
      "outputs": [
        {
          "output_type": "stream",
          "name": "stdout",
          "text": [
            "Ganesh\n",
            "25\n"
          ]
        }
      ]
    },
    {
      "cell_type": "markdown",
      "source": [
        "## QUIZ"
      ],
      "metadata": {
        "id": "cwKuCtOpWibf"
      }
    },
    {
      "cell_type": "code",
      "source": [
        "class Student:\n",
        "  name = 'Sahil'\n",
        "  age = 22\n",
        "\n",
        "  def join_class(self):\n",
        "    # print('self printed inside the function call:', self)\n",
        "    print(f'The student {s.name} has joined the class')\n",
        "\n",
        "s2 = Student()\n",
        "s2.name = 'Ganesh'\n",
        "s2.age = 25\n",
        "s2.join_class()"
      ],
      "metadata": {
        "colab": {
          "base_uri": "https://localhost:8080/"
        },
        "id": "c_j0ijlAWRek",
        "outputId": "cb186e6e-96ab-4a1a-97bc-d06db912a33b"
      },
      "execution_count": null,
      "outputs": [
        {
          "output_type": "stream",
          "name": "stdout",
          "text": [
            "The student Sahil has joined the class\n"
          ]
        }
      ]
    },
    {
      "cell_type": "code",
      "source": [
        "class Student:\n",
        "  name = 'Sahil'\n",
        "  age = 22\n",
        "\n",
        "  def join_class(self, t):\n",
        "    # print('self printed inside the function call:', self)\n",
        "    print(f'The student {self.name} has joined the class after {t} seconds')\n",
        "\n",
        "s2 = Student()\n",
        "s2.name = 'Ganesh'\n",
        "s2.age = 25\n",
        "s2.join_class(10)"
      ],
      "metadata": {
        "colab": {
          "base_uri": "https://localhost:8080/"
        },
        "id": "4iePogoNWs-F",
        "outputId": "570eefbd-3f31-4ec6-acff-f73d24a0b871"
      },
      "execution_count": null,
      "outputs": [
        {
          "output_type": "stream",
          "name": "stdout",
          "text": [
            "The student Ganesh has joined the class after 10 seconds\n"
          ]
        }
      ]
    },
    {
      "cell_type": "code",
      "source": [
        ""
      ],
      "metadata": {
        "id": "zDX4KW9YYIdx"
      },
      "execution_count": null,
      "outputs": []
    },
    {
      "cell_type": "markdown",
      "source": [
        "## Doubts\n"
      ],
      "metadata": {
        "id": "6yO8qKfSaZRl"
      }
    },
    {
      "cell_type": "code",
      "source": [
        ""
      ],
      "metadata": {
        "id": "2bwgfDTfaZ5c"
      },
      "execution_count": null,
      "outputs": []
    }
  ]
}