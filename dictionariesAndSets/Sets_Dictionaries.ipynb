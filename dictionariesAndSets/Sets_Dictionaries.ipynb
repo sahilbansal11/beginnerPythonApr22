{
  "nbformat": 4,
  "nbformat_minor": 0,
  "metadata": {
    "colab": {
      "name": "Sets_Dictionaries.ipynb",
      "provenance": []
    },
    "kernelspec": {
      "name": "python3",
      "display_name": "Python 3"
    },
    "language_info": {
      "name": "python"
    }
  },
  "cells": [
    {
      "cell_type": "markdown",
      "source": [
        "## Dictionaries"
      ],
      "metadata": {
        "id": "f08os_3wWKtf"
      }
    },
    {
      "cell_type": "markdown",
      "source": [
        "## Inventory Management"
      ],
      "metadata": {
        "id": "uqS_MLk1YnWs"
      }
    },
    {
      "cell_type": "code",
      "source": [
        "inventory = { 'bananas': 6, 'apples': 3, 'oranges': 4}"
      ],
      "metadata": {
        "id": "ebS2MY_UYpF9"
      },
      "execution_count": null,
      "outputs": []
    },
    {
      "cell_type": "code",
      "source": [
        "print(type(inventory))"
      ],
      "metadata": {
        "colab": {
          "base_uri": "https://localhost:8080/"
        },
        "id": "P76GJy99ZZxK",
        "outputId": "051a17f4-3eae-418c-ce96-a3abf7133b4c"
      },
      "execution_count": null,
      "outputs": [
        {
          "output_type": "stream",
          "name": "stdout",
          "text": [
            "<class 'dict'>\n"
          ]
        }
      ]
    },
    {
      "cell_type": "code",
      "source": [
        "english_to_hindi = { 'banana': 'kela', 'apple': 'seb'}"
      ],
      "metadata": {
        "id": "fMZhM5OoZeEC"
      },
      "execution_count": null,
      "outputs": []
    },
    {
      "cell_type": "code",
      "source": [
        "print(type(english_to_hindi))"
      ],
      "metadata": {
        "colab": {
          "base_uri": "https://localhost:8080/"
        },
        "id": "IzqKN_AZZ2qa",
        "outputId": "c1614d66-42ca-4db8-ee4c-02b261b530cd"
      },
      "execution_count": null,
      "outputs": [
        {
          "output_type": "stream",
          "name": "stdout",
          "text": [
            "<class 'dict'>\n"
          ]
        }
      ]
    },
    {
      "cell_type": "markdown",
      "source": [
        "## Quiz"
      ],
      "metadata": {
        "id": "YVvqfG0Naehm"
      }
    },
    {
      "cell_type": "code",
      "source": [
        "words = {\n",
        "\"is\": 2,\n",
        "\"hello\": 3,\n",
        "\"the\": 4\n",
        "}\n",
        "\n",
        "print(type(words))"
      ],
      "metadata": {
        "colab": {
          "base_uri": "https://localhost:8080/"
        },
        "id": "l7RRh_flZ5gH",
        "outputId": "eeb52100-0cff-4d0b-a74e-8c55fdd3f441"
      },
      "execution_count": null,
      "outputs": [
        {
          "output_type": "stream",
          "name": "stdout",
          "text": [
            "<class 'dict'>\n"
          ]
        }
      ]
    },
    {
      "cell_type": "code",
      "source": [
        ""
      ],
      "metadata": {
        "id": "31GMMWTgadvq"
      },
      "execution_count": null,
      "outputs": []
    },
    {
      "cell_type": "markdown",
      "source": [
        "## Play around with Dictionaries"
      ],
      "metadata": {
        "id": "2cXl-6Iyapbl"
      }
    },
    {
      "cell_type": "code",
      "source": [
        "x = {}\n",
        "print(type(x))"
      ],
      "metadata": {
        "colab": {
          "base_uri": "https://localhost:8080/"
        },
        "id": "gkMM4kepaqcZ",
        "outputId": "99bf372d-69bf-462f-9246-28b8afa2f743"
      },
      "execution_count": null,
      "outputs": [
        {
          "output_type": "stream",
          "name": "stdout",
          "text": [
            "<class 'dict'>\n"
          ]
        }
      ]
    },
    {
      "cell_type": "code",
      "source": [
        "x = {2: 'hello', '1': 5}"
      ],
      "metadata": {
        "id": "N19obVL3awek"
      },
      "execution_count": null,
      "outputs": []
    },
    {
      "cell_type": "code",
      "source": [
        "l = [1, 'hello', 1.3]"
      ],
      "metadata": {
        "id": "Ecb519Nza1Wb"
      },
      "execution_count": null,
      "outputs": []
    },
    {
      "cell_type": "code",
      "source": [
        "print(x)\n"
      ],
      "metadata": {
        "colab": {
          "base_uri": "https://localhost:8080/"
        },
        "id": "t8hs7O2da7R3",
        "outputId": "112958fb-1e13-462f-c074-cb6ae2db6e27"
      },
      "execution_count": null,
      "outputs": [
        {
          "output_type": "stream",
          "name": "stdout",
          "text": [
            "{2: 'hello', '1': 5}\n"
          ]
        }
      ]
    },
    {
      "cell_type": "code",
      "source": [
        "print(l)"
      ],
      "metadata": {
        "colab": {
          "base_uri": "https://localhost:8080/"
        },
        "id": "-WGaN8ZEa8MP",
        "outputId": "82e2b294-53c9-496e-d4ae-feb9a00f0945"
      },
      "execution_count": null,
      "outputs": [
        {
          "output_type": "stream",
          "name": "stdout",
          "text": [
            "[1, 'hello', 1.3]\n"
          ]
        }
      ]
    },
    {
      "cell_type": "markdown",
      "source": [
        "## Access inventory of one product"
      ],
      "metadata": {
        "id": "6sRGimRFbXKz"
      }
    },
    {
      "cell_type": "code",
      "source": [
        "inventory = { 'bananas': 6, 'apples': 3, 'oranges': 4}\n",
        "\n"
      ],
      "metadata": {
        "id": "zuaSKW5Xa9-z"
      },
      "execution_count": null,
      "outputs": []
    },
    {
      "cell_type": "code",
      "source": [
        "print(inventory[0])"
      ],
      "metadata": {
        "colab": {
          "base_uri": "https://localhost:8080/",
          "height": 168
        },
        "id": "m-FMqCJQbZLM",
        "outputId": "94746f90-4afd-4a8c-a124-e54284fde00f"
      },
      "execution_count": null,
      "outputs": [
        {
          "output_type": "error",
          "ename": "KeyError",
          "evalue": "ignored",
          "traceback": [
            "\u001b[0;31m---------------------------------------------------------------------------\u001b[0m",
            "\u001b[0;31mKeyError\u001b[0m                                  Traceback (most recent call last)",
            "\u001b[0;32m<ipython-input-130-f5b4e95d7527>\u001b[0m in \u001b[0;36m<module>\u001b[0;34m()\u001b[0m\n\u001b[0;32m----> 1\u001b[0;31m \u001b[0mprint\u001b[0m\u001b[0;34m(\u001b[0m\u001b[0minventory\u001b[0m\u001b[0;34m[\u001b[0m\u001b[0;36m0\u001b[0m\u001b[0;34m]\u001b[0m\u001b[0;34m)\u001b[0m\u001b[0;34m\u001b[0m\u001b[0;34m\u001b[0m\u001b[0m\n\u001b[0m",
            "\u001b[0;31mKeyError\u001b[0m: 0"
          ]
        }
      ]
    },
    {
      "cell_type": "code",
      "source": [
        "print(inventory['bananas'])"
      ],
      "metadata": {
        "id": "hsSOMqiHb3yF"
      },
      "execution_count": null,
      "outputs": []
    },
    {
      "cell_type": "code",
      "source": [
        "print(inventory['apples'])"
      ],
      "metadata": {
        "id": "8aeAwfyYcAji"
      },
      "execution_count": null,
      "outputs": []
    },
    {
      "cell_type": "code",
      "source": [
        "words = {\n",
        "\"is\": 2,\n",
        "\"hello\": 3,\n",
        "\"the\": 4\n",
        "}\n",
        "this_count = words[\"this\"]\n",
        "\n",
        "print(this_count)"
      ],
      "metadata": {
        "id": "0KekN1t8cLWP"
      },
      "execution_count": null,
      "outputs": []
    },
    {
      "cell_type": "code",
      "source": [
        "inventory = { 'bananas': 6, 'apples': 3, 'oranges': 4}\n"
      ],
      "metadata": {
        "id": "X55VuImHckjr"
      },
      "execution_count": null,
      "outputs": []
    },
    {
      "cell_type": "code",
      "source": [
        "inventory['tomatoes'] = 100"
      ],
      "metadata": {
        "id": "orYOcEuOdZTx"
      },
      "execution_count": null,
      "outputs": []
    },
    {
      "cell_type": "code",
      "source": [
        "print(inventory)"
      ],
      "metadata": {
        "id": "hmkogfUYdc-X"
      },
      "execution_count": null,
      "outputs": []
    },
    {
      "cell_type": "code",
      "source": [
        "d = {\"a\": 1, \"b\": 2, \"c\": 3}\n",
        "d['d'] = 55\n",
        "print(d)\n",
        "\n",
        "print(d['d')]"
      ],
      "metadata": {
        "colab": {
          "base_uri": "https://localhost:8080/",
          "height": 132
        },
        "id": "6OTJHAq4ddwJ",
        "outputId": "54c3030a-c6d0-41b6-c526-5415f74596cc"
      },
      "execution_count": null,
      "outputs": [
        {
          "output_type": "error",
          "ename": "SyntaxError",
          "evalue": "ignored",
          "traceback": [
            "\u001b[0;36m  File \u001b[0;32m\"<ipython-input-131-d851ed24398f>\"\u001b[0;36m, line \u001b[0;32m5\u001b[0m\n\u001b[0;31m    print(d['d')]\u001b[0m\n\u001b[0m               ^\u001b[0m\n\u001b[0;31mSyntaxError\u001b[0m\u001b[0;31m:\u001b[0m invalid syntax\n"
          ]
        }
      ]
    },
    {
      "cell_type": "code",
      "source": [
        "d = 3\n",
        "print('d')\n",
        "print(d)"
      ],
      "metadata": {
        "id": "DjdF1xDbenii"
      },
      "execution_count": null,
      "outputs": []
    },
    {
      "cell_type": "code",
      "source": [
        "inventory = { 'bananas': 6, 'apples': 3, 'oranges': 4}\n",
        "print(inventory)"
      ],
      "metadata": {
        "id": "g6AIvtb0etuR"
      },
      "execution_count": null,
      "outputs": []
    },
    {
      "cell_type": "code",
      "source": [
        "# print(inventory['carrot'])"
      ],
      "metadata": {
        "id": "aaiUOSDci1ZK"
      },
      "execution_count": null,
      "outputs": []
    },
    {
      "cell_type": "markdown",
      "source": [
        "## Get function"
      ],
      "metadata": {
        "id": "ESowrq6fncGI"
      }
    },
    {
      "cell_type": "code",
      "source": [
        "print(inventory.get('bananas'))"
      ],
      "metadata": {
        "id": "BfdC9_1Vi4kn"
      },
      "execution_count": null,
      "outputs": []
    },
    {
      "cell_type": "code",
      "source": [
        "print(inventory.get('apples', 0))"
      ],
      "metadata": {
        "id": "dQqAVPT3jEjs"
      },
      "execution_count": null,
      "outputs": []
    },
    {
      "cell_type": "code",
      "source": [
        "print(inventory.get('oranges'))"
      ],
      "metadata": {
        "id": "Ar-yb4oAjHS1"
      },
      "execution_count": null,
      "outputs": []
    },
    {
      "cell_type": "code",
      "source": [
        "print(inventory.get('carrot'))"
      ],
      "metadata": {
        "colab": {
          "base_uri": "https://localhost:8080/"
        },
        "id": "OVO4EMd1jJKc",
        "outputId": "9fe3254c-c643-4822-9e89-166ce1b1e52a"
      },
      "execution_count": null,
      "outputs": [
        {
          "output_type": "stream",
          "name": "stdout",
          "text": [
            "None\n"
          ]
        }
      ]
    },
    {
      "cell_type": "code",
      "source": [
        "print(inventory.get('carrot', 0))"
      ],
      "metadata": {
        "colab": {
          "base_uri": "https://localhost:8080/"
        },
        "id": "s5VKzhIMjLbI",
        "outputId": "266083ca-3382-4eef-fb6d-5d6cc4a06055"
      },
      "execution_count": null,
      "outputs": [
        {
          "output_type": "stream",
          "name": "stdout",
          "text": [
            "0\n"
          ]
        }
      ]
    },
    {
      "cell_type": "markdown",
      "source": [
        "## Quiz"
      ],
      "metadata": {
        "id": "faWlfh-Pkcng"
      }
    },
    {
      "cell_type": "code",
      "source": [
        "d = {\"a\": 1, \"b\": 2, \"c\": 3}\n",
        "print(d.get(\"a\", 0))\n",
        "print(d.get(\"b\", 0))\n",
        "print(d.get(\"c\", 0))\n",
        "print(d.get(\"d\", 0))"
      ],
      "metadata": {
        "colab": {
          "base_uri": "https://localhost:8080/"
        },
        "id": "yCz4CNN5jkEn",
        "outputId": "34ec3868-83c2-4cdf-8c91-a5db2a220c69"
      },
      "execution_count": null,
      "outputs": [
        {
          "output_type": "stream",
          "name": "stdout",
          "text": [
            "1\n",
            "2\n",
            "3\n",
            "0\n"
          ]
        }
      ]
    },
    {
      "cell_type": "markdown",
      "source": [
        "## Looping over dictionary"
      ],
      "metadata": {
        "id": "5F0JH594leFL"
      }
    },
    {
      "cell_type": "code",
      "source": [
        "for product in inventory:\n",
        "  print(product)"
      ],
      "metadata": {
        "colab": {
          "base_uri": "https://localhost:8080/"
        },
        "id": "RZLkw11xkpLf",
        "outputId": "6226799f-f6c5-438e-81bf-645f521f3d59"
      },
      "execution_count": null,
      "outputs": [
        {
          "output_type": "stream",
          "name": "stdout",
          "text": [
            "bananas\n",
            "apples\n",
            "oranges\n"
          ]
        }
      ]
    },
    {
      "cell_type": "code",
      "source": [
        "for x in inventory:\n",
        "  print(x, inventory[x])"
      ],
      "metadata": {
        "colab": {
          "base_uri": "https://localhost:8080/"
        },
        "id": "fp4XIwi-li10",
        "outputId": "1513ac06-8bf3-47b1-8889-72fbd7fee084"
      },
      "execution_count": null,
      "outputs": [
        {
          "output_type": "stream",
          "name": "stdout",
          "text": [
            "bananas 6\n",
            "apples 3\n",
            "oranges 4\n"
          ]
        }
      ]
    },
    {
      "cell_type": "code",
      "source": [
        "for x in inventory:\n",
        "  print(x, inventory.get(x, 0))"
      ],
      "metadata": {
        "colab": {
          "base_uri": "https://localhost:8080/"
        },
        "id": "VZj2JRB4lyyj",
        "outputId": "c51a46b7-164e-4e4d-c8e6-c3cf5c0d65fd"
      },
      "execution_count": null,
      "outputs": [
        {
          "output_type": "stream",
          "name": "stdout",
          "text": [
            "bananas 6\n",
            "apples 3\n",
            "oranges 4\n"
          ]
        }
      ]
    },
    {
      "cell_type": "code",
      "source": [
        "a = {1: 1, 2: 4, 3: 9}\n",
        "\n",
        "for x in a:\n",
        "  print(a[x], end=' ')"
      ],
      "metadata": {
        "colab": {
          "base_uri": "https://localhost:8080/"
        },
        "id": "bkzqwgZjl-Gd",
        "outputId": "25e2370f-a853-4cc7-8848-20570f612b7b"
      },
      "execution_count": null,
      "outputs": [
        {
          "output_type": "stream",
          "name": "stdout",
          "text": [
            "1 4 9 "
          ]
        }
      ]
    },
    {
      "cell_type": "code",
      "source": [
        "print(a.keys())"
      ],
      "metadata": {
        "colab": {
          "base_uri": "https://localhost:8080/"
        },
        "id": "l5NBAq4XmreM",
        "outputId": "cc93d420-d102-4ce6-96a6-b2b7e9913938"
      },
      "execution_count": null,
      "outputs": [
        {
          "output_type": "stream",
          "name": "stdout",
          "text": [
            "dict_keys([1, 2, 3])\n"
          ]
        }
      ]
    },
    {
      "cell_type": "code",
      "source": [
        "print(a.values())"
      ],
      "metadata": {
        "colab": {
          "base_uri": "https://localhost:8080/"
        },
        "id": "d4xN78Kxm015",
        "outputId": "edec5eba-3d94-4f92-f7de-9ee464a7a525"
      },
      "execution_count": null,
      "outputs": [
        {
          "output_type": "stream",
          "name": "stdout",
          "text": [
            "dict_values([1, 4, 9])\n"
          ]
        }
      ]
    },
    {
      "cell_type": "code",
      "source": [
        "print(list(a.keys()))"
      ],
      "metadata": {
        "colab": {
          "base_uri": "https://localhost:8080/"
        },
        "id": "BON3ispOm3IP",
        "outputId": "6a4779e7-91ff-41d8-997e-a108fd954003"
      },
      "execution_count": null,
      "outputs": [
        {
          "output_type": "stream",
          "name": "stdout",
          "text": [
            "[1, 2, 3]\n"
          ]
        }
      ]
    },
    {
      "cell_type": "code",
      "source": [
        "print(list(a.values()))"
      ],
      "metadata": {
        "colab": {
          "base_uri": "https://localhost:8080/"
        },
        "id": "4kW9DuCQnL3E",
        "outputId": "ca4b3791-43da-494d-a662-b53817417750"
      },
      "execution_count": null,
      "outputs": [
        {
          "output_type": "stream",
          "name": "stdout",
          "text": [
            "[1, 4, 9]\n"
          ]
        }
      ]
    },
    {
      "cell_type": "code",
      "source": [
        ""
      ],
      "metadata": {
        "id": "hffYLDp7nNdZ"
      },
      "execution_count": null,
      "outputs": []
    },
    {
      "cell_type": "markdown",
      "source": [
        "## Len\n"
      ],
      "metadata": {
        "id": "9-hMnA0dnf6S"
      }
    },
    {
      "cell_type": "code",
      "source": [
        "print(len(inventory))"
      ],
      "metadata": {
        "colab": {
          "base_uri": "https://localhost:8080/"
        },
        "id": "ly_UlgNSngaz",
        "outputId": "cc174fc7-ad32-4766-916c-3865144cd719"
      },
      "execution_count": null,
      "outputs": [
        {
          "output_type": "stream",
          "name": "stdout",
          "text": [
            "3\n"
          ]
        }
      ]
    },
    {
      "cell_type": "code",
      "source": [
        "print(inventory)"
      ],
      "metadata": {
        "colab": {
          "base_uri": "https://localhost:8080/"
        },
        "id": "ABs4CdQHnhHc",
        "outputId": "b24dac31-749c-458f-b31b-9d2bdc24f692"
      },
      "execution_count": null,
      "outputs": [
        {
          "output_type": "stream",
          "name": "stdout",
          "text": [
            "{'bananas': 6, 'apples': 3, 'oranges': 4}\n"
          ]
        }
      ]
    },
    {
      "cell_type": "code",
      "source": [
        ""
      ],
      "metadata": {
        "id": "CQK4jTpqnmd5"
      },
      "execution_count": null,
      "outputs": []
    },
    {
      "cell_type": "markdown",
      "source": [
        "## in keyword"
      ],
      "metadata": {
        "id": "A8mrAzIhn4WM"
      }
    },
    {
      "cell_type": "code",
      "source": [
        "print('tomato' in inventory)"
      ],
      "metadata": {
        "colab": {
          "base_uri": "https://localhost:8080/"
        },
        "id": "CU2ThRv8n5B9",
        "outputId": "a4a03a21-71fb-403a-c1a9-5ec3edc853e8"
      },
      "execution_count": null,
      "outputs": [
        {
          "output_type": "stream",
          "name": "stdout",
          "text": [
            "False\n"
          ]
        }
      ]
    },
    {
      "cell_type": "code",
      "source": [
        "print('banana' in inventory)"
      ],
      "metadata": {
        "colab": {
          "base_uri": "https://localhost:8080/"
        },
        "id": "ssMdmrJNn7Ys",
        "outputId": "9d506483-7a9d-43e5-aaee-c9d2cbfff254"
      },
      "execution_count": null,
      "outputs": [
        {
          "output_type": "stream",
          "name": "stdout",
          "text": [
            "False\n"
          ]
        }
      ]
    },
    {
      "cell_type": "code",
      "source": [
        "print('bananas' in inventory)"
      ],
      "metadata": {
        "colab": {
          "base_uri": "https://localhost:8080/"
        },
        "id": "Sj0cKwe-oDrt",
        "outputId": "314ef8dd-320b-46fa-9f99-79a4e38e2a4a"
      },
      "execution_count": null,
      "outputs": [
        {
          "output_type": "stream",
          "name": "stdout",
          "text": [
            "True\n"
          ]
        }
      ]
    },
    {
      "cell_type": "code",
      "source": [
        "print(6 in inventory)"
      ],
      "metadata": {
        "colab": {
          "base_uri": "https://localhost:8080/"
        },
        "id": "w3uo_cwcoGvr",
        "outputId": "87949dca-cc85-4d35-fa57-c17daec42644"
      },
      "execution_count": null,
      "outputs": [
        {
          "output_type": "stream",
          "name": "stdout",
          "text": [
            "False\n"
          ]
        }
      ]
    },
    {
      "cell_type": "code",
      "source": [
        ""
      ],
      "metadata": {
        "id": "acRg8ZURoT1f"
      },
      "execution_count": null,
      "outputs": []
    },
    {
      "cell_type": "markdown",
      "source": [
        "## Challenge 1:\n",
        "Given a string as input, count the freq of characters in it.\n",
        "\n",
        "I/P: 'hello world'\n",
        "\n",
        "O/P:\n",
        "\n",
        "h 1\n",
        "\n",
        "e 1\n",
        "\n",
        "l 3\n",
        "\n",
        "o 2\n",
        "\n",
        "' ' 1\n",
        "\n",
        "w 1\n",
        "\n",
        "r 1\n",
        "\n",
        "d 1"
      ],
      "metadata": {
        "id": "abtLFhc3ocas"
      }
    },
    {
      "cell_type": "code",
      "source": [
        "s = input()\n",
        "\n",
        "for ch in s:\n",
        "  print(ch)"
      ],
      "metadata": {
        "colab": {
          "base_uri": "https://localhost:8080/"
        },
        "id": "1mwjMQ-QorZ9",
        "outputId": "5f3a9b10-7982-475a-c7af-4eda5306514b"
      },
      "execution_count": null,
      "outputs": [
        {
          "name": "stdout",
          "output_type": "stream",
          "text": [
            "\n"
          ]
        }
      ]
    },
    {
      "cell_type": "code",
      "source": [
        "s = input()\n",
        "\n",
        "freq = {}\n",
        "for ch in s:\n",
        "  print(freq)\n",
        "\n",
        "  if ch in freq:\n",
        "    # already present, we are just adding once\n",
        "    freq[ch] = freq[ch] + 1\n",
        "  else:\n",
        "    freq[ch] = 1 # adding\n",
        "\n",
        "print(freq)"
      ],
      "metadata": {
        "colab": {
          "base_uri": "https://localhost:8080/"
        },
        "id": "ixCXjxUVpdG2",
        "outputId": "25dcd100-e9ec-4cfb-f2db-d2fcb882b5bd"
      },
      "execution_count": null,
      "outputs": [
        {
          "output_type": "stream",
          "name": "stdout",
          "text": [
            "\n",
            "{}\n"
          ]
        }
      ]
    },
    {
      "cell_type": "code",
      "source": [
        "s = input()\n",
        "\n",
        "freq = {}\n",
        "for ch in s:\n",
        "  print(ch)\n",
        "\n",
        "  freq[ch] = freq.get(ch, 0) + 1\n",
        "\n",
        "print(freq)"
      ],
      "metadata": {
        "colab": {
          "base_uri": "https://localhost:8080/"
        },
        "id": "3njsDAw9qz69",
        "outputId": "d821add7-b177-4990-f166-df1b9de9e29f"
      },
      "execution_count": null,
      "outputs": [
        {
          "output_type": "stream",
          "name": "stdout",
          "text": [
            "\n",
            "{}\n"
          ]
        }
      ]
    },
    {
      "cell_type": "code",
      "source": [
        ""
      ],
      "metadata": {
        "id": "9YPhjYitr0By"
      },
      "execution_count": null,
      "outputs": []
    },
    {
      "cell_type": "markdown",
      "source": [
        "## Sets"
      ],
      "metadata": {
        "id": "zNeRXqXtt94c"
      }
    },
    {
      "cell_type": "code",
      "source": [
        "s = {1, 2, 3, 4, 3, 2, 1, 2, 3, 4, 1, 2, 3, 4}"
      ],
      "metadata": {
        "id": "4L-ZnDyCt-YJ"
      },
      "execution_count": null,
      "outputs": []
    },
    {
      "cell_type": "code",
      "source": [
        "print(s)"
      ],
      "metadata": {
        "colab": {
          "base_uri": "https://localhost:8080/"
        },
        "id": "oy4F9f7wuZLY",
        "outputId": "33164efe-204a-4deb-f7fd-c3eeb852a7d4"
      },
      "execution_count": null,
      "outputs": [
        {
          "output_type": "stream",
          "name": "stdout",
          "text": [
            "{1, 2, 3, 4}\n"
          ]
        }
      ]
    },
    {
      "cell_type": "code",
      "source": [
        "print(type(s))"
      ],
      "metadata": {
        "colab": {
          "base_uri": "https://localhost:8080/"
        },
        "id": "Nbp3lXJFuZqD",
        "outputId": "7a1f26e1-2482-4e4e-a95e-b1e252aae8d7"
      },
      "execution_count": null,
      "outputs": [
        {
          "output_type": "stream",
          "name": "stdout",
          "text": [
            "<class 'set'>\n"
          ]
        }
      ]
    },
    {
      "cell_type": "code",
      "source": [
        "d = {}\n",
        "print(d)\n",
        "print(type(d))"
      ],
      "metadata": {
        "colab": {
          "base_uri": "https://localhost:8080/"
        },
        "id": "u5AKbYjYuan4",
        "outputId": "519ed4c0-fef3-4161-fb9d-207d65f747a7"
      },
      "execution_count": null,
      "outputs": [
        {
          "output_type": "stream",
          "name": "stdout",
          "text": [
            "{}\n",
            "<class 'dict'>\n"
          ]
        }
      ]
    },
    {
      "cell_type": "markdown",
      "source": [
        "## Empty Set"
      ],
      "metadata": {
        "id": "PFuLc853uxMc"
      }
    },
    {
      "cell_type": "code",
      "source": [
        "s = set()\n",
        "print(s)\n",
        "print(type(s))"
      ],
      "metadata": {
        "colab": {
          "base_uri": "https://localhost:8080/"
        },
        "id": "2M_o2s7fuqfq",
        "outputId": "a8eec891-19a3-4aa6-e73b-5ef221f8f731"
      },
      "execution_count": null,
      "outputs": [
        {
          "output_type": "stream",
          "name": "stdout",
          "text": [
            "set()\n",
            "<class 'set'>\n"
          ]
        }
      ]
    },
    {
      "cell_type": "markdown",
      "source": [
        "## Add data to a set"
      ],
      "metadata": {
        "id": "nFZbwemnu4Sn"
      }
    },
    {
      "cell_type": "code",
      "source": [
        "s.add(5)"
      ],
      "metadata": {
        "id": "wouhDQMQuwVP"
      },
      "execution_count": null,
      "outputs": []
    },
    {
      "cell_type": "code",
      "source": [
        "print(s)"
      ],
      "metadata": {
        "colab": {
          "base_uri": "https://localhost:8080/"
        },
        "id": "0NM5xv2Hu6gV",
        "outputId": "c07403c3-fb68-4af5-db01-3f5c2d86c412"
      },
      "execution_count": null,
      "outputs": [
        {
          "output_type": "stream",
          "name": "stdout",
          "text": [
            "{5}\n"
          ]
        }
      ]
    },
    {
      "cell_type": "code",
      "source": [
        "s.add(5)"
      ],
      "metadata": {
        "id": "LJNu9ABZu_eD"
      },
      "execution_count": null,
      "outputs": []
    },
    {
      "cell_type": "code",
      "source": [
        "print(s)"
      ],
      "metadata": {
        "colab": {
          "base_uri": "https://localhost:8080/"
        },
        "id": "012cP3XtvBbV",
        "outputId": "7c0d54e9-19d9-4851-86e1-219304ee5ec0"
      },
      "execution_count": null,
      "outputs": [
        {
          "output_type": "stream",
          "name": "stdout",
          "text": [
            "{5}\n"
          ]
        }
      ]
    },
    {
      "cell_type": "code",
      "source": [
        "s.add(3)\n",
        "print(s)"
      ],
      "metadata": {
        "colab": {
          "base_uri": "https://localhost:8080/"
        },
        "id": "pT0niZDUvCtD",
        "outputId": "ef484c3f-ef8c-420a-da7d-2eb2e625692e"
      },
      "execution_count": null,
      "outputs": [
        {
          "output_type": "stream",
          "name": "stdout",
          "text": [
            "{3, 5}\n"
          ]
        }
      ]
    },
    {
      "cell_type": "code",
      "source": [
        "l = list()\n",
        "l.append(5)\n",
        "l.append(3)\n",
        "print(l)"
      ],
      "metadata": {
        "colab": {
          "base_uri": "https://localhost:8080/"
        },
        "id": "sc6-k9fPvH-8",
        "outputId": "9b62fa30-9de4-4dff-8c61-33a780652d6f"
      },
      "execution_count": null,
      "outputs": [
        {
          "output_type": "stream",
          "name": "stdout",
          "text": [
            "[5, 3]\n"
          ]
        }
      ]
    },
    {
      "cell_type": "code",
      "source": [
        "print(len(s))"
      ],
      "metadata": {
        "colab": {
          "base_uri": "https://localhost:8080/"
        },
        "id": "2CCVVHYQvZdw",
        "outputId": "cbfdc7d5-51cc-4fc8-c3e1-ddc0bd35e584"
      },
      "execution_count": null,
      "outputs": [
        {
          "output_type": "stream",
          "name": "stdout",
          "text": [
            "2\n"
          ]
        }
      ]
    },
    {
      "cell_type": "code",
      "source": [
        "s = set()\n",
        "s.add(5)"
      ],
      "metadata": {
        "id": "wPK92kHKvkWm"
      },
      "execution_count": null,
      "outputs": []
    },
    {
      "cell_type": "code",
      "source": [
        "print(s)"
      ],
      "metadata": {
        "colab": {
          "base_uri": "https://localhost:8080/"
        },
        "id": "f51AwDPMv1cE",
        "outputId": "90cbfa8c-875e-486b-9f6b-a59219b2d543"
      },
      "execution_count": null,
      "outputs": [
        {
          "output_type": "stream",
          "name": "stdout",
          "text": [
            "{5}\n"
          ]
        }
      ]
    },
    {
      "cell_type": "code",
      "source": [
        "# print(s[0])\n",
        "s.add(3)\n",
        "s.add(2)\n",
        "s.add(9)"
      ],
      "metadata": {
        "id": "DBCeW5Zev-Rr"
      },
      "execution_count": null,
      "outputs": []
    },
    {
      "cell_type": "code",
      "source": [
        "for x in s:\n",
        "  print(x)"
      ],
      "metadata": {
        "colab": {
          "base_uri": "https://localhost:8080/"
        },
        "id": "nHrL5ZIiwCOr",
        "outputId": "2e0fbf92-1066-4df5-87da-a025f5baf12b"
      },
      "execution_count": null,
      "outputs": [
        {
          "output_type": "stream",
          "name": "stdout",
          "text": [
            "9\n",
            "2\n",
            "3\n",
            "5\n"
          ]
        }
      ]
    },
    {
      "cell_type": "code",
      "source": [
        ""
      ],
      "metadata": {
        "id": "1CRZXyGPwJk-"
      },
      "execution_count": null,
      "outputs": []
    },
    {
      "cell_type": "markdown",
      "source": [
        "## Quiz"
      ],
      "metadata": {
        "id": "cmjYbxcywbej"
      }
    },
    {
      "cell_type": "code",
      "source": [
        "print(set('abc'))"
      ],
      "metadata": {
        "colab": {
          "base_uri": "https://localhost:8080/"
        },
        "id": "p8RGm7dawb1j",
        "outputId": "4050b373-b27b-4bcd-c6c2-855000159986"
      },
      "execution_count": null,
      "outputs": [
        {
          "output_type": "stream",
          "name": "stdout",
          "text": [
            "{'b', 'c', 'a'}\n"
          ]
        }
      ]
    },
    {
      "cell_type": "code",
      "source": [
        "set('hello world')\n"
      ],
      "metadata": {
        "colab": {
          "base_uri": "https://localhost:8080/"
        },
        "id": "YThzwrZnwgSu",
        "outputId": "67392294-103f-431c-acd7-eb77c119f6f0"
      },
      "execution_count": null,
      "outputs": [
        {
          "output_type": "execute_result",
          "data": {
            "text/plain": [
              "{' ', 'd', 'e', 'h', 'l', 'o', 'r', 'w'}"
            ]
          },
          "metadata": {},
          "execution_count": 169
        }
      ]
    },
    {
      "cell_type": "code",
      "source": [
        "set([1, 2, 1, 2, 3, 4, 5, 5])"
      ],
      "metadata": {
        "colab": {
          "base_uri": "https://localhost:8080/"
        },
        "id": "l0oeQnqQwkee",
        "outputId": "4bc60ffd-4133-483c-ea93-5e102d404488"
      },
      "execution_count": null,
      "outputs": [
        {
          "output_type": "execute_result",
          "data": {
            "text/plain": [
              "{1, 2, 3, 4, 5}"
            ]
          },
          "metadata": {},
          "execution_count": 170
        }
      ]
    },
    {
      "cell_type": "code",
      "source": [
        "d =  {'😀', '😃', '😄', '😁','😃', '😄'}\n",
        "\n",
        "print(len(d))"
      ],
      "metadata": {
        "colab": {
          "base_uri": "https://localhost:8080/"
        },
        "id": "a5jDGR6RwtgB",
        "outputId": "15a271aa-4a9f-421f-d71c-7e0ea2b40640"
      },
      "execution_count": null,
      "outputs": [
        {
          "output_type": "stream",
          "name": "stdout",
          "text": [
            "4\n"
          ]
        }
      ]
    },
    {
      "cell_type": "code",
      "source": [
        ""
      ],
      "metadata": {
        "id": "17Gm8OJDxQy2"
      },
      "execution_count": null,
      "outputs": []
    },
    {
      "cell_type": "markdown",
      "source": [
        "## Doubts"
      ],
      "metadata": {
        "id": "4D5B0UJfypzy"
      }
    },
    {
      "cell_type": "code",
      "source": [
        ""
      ],
      "metadata": {
        "id": "666pd7W4ypk_"
      },
      "execution_count": null,
      "outputs": []
    },
    {
      "cell_type": "markdown",
      "source": [
        "1. No index in dictionaries"
      ],
      "metadata": {
        "id": "_nAkMjXGysUw"
      }
    },
    {
      "cell_type": "code",
      "source": [
        "A={'Hello World'}\n",
        "print(A)"
      ],
      "metadata": {
        "id": "eLuwiKWOyuAT"
      },
      "execution_count": null,
      "outputs": []
    },
    {
      "cell_type": "code",
      "source": [
        "words = {'dance', 'play', 'fire', 'ice', 'water', 'water', 'ice'}\n",
        "print(words)"
      ],
      "metadata": {
        "id": "c-HKsVszyweD"
      },
      "execution_count": null,
      "outputs": []
    },
    {
      "cell_type": "code",
      "source": [
        "a = set('hello world')\n",
        "b = set([1, 2, 3, 1, 2, 3])\n",
        "print(a)\n",
        "print(b)"
      ],
      "metadata": {
        "id": "-kh-hTwxy5Xx"
      },
      "execution_count": null,
      "outputs": []
    },
    {
      "cell_type": "code",
      "source": [
        "\"\"\"\n",
        "This is a multiline statement\n",
        "\"\"\"\n",
        "\n",
        "a = [1,\n",
        "     2,\n",
        "     3,\n",
        "     4]\n",
        "\n",
        "b = [[1, 2],\n",
        "     [2, 3]]\n",
        "  \n",
        "d = {\n",
        "    '1': 1,\n",
        "    '2': 2\n",
        "}"
      ],
      "metadata": {
        "id": "HPP2Oe7XzAWG"
      },
      "execution_count": null,
      "outputs": []
    },
    {
      "cell_type": "code",
      "source": [
        "x = 1\n",
        "y = 2\n",
        "\n",
        "z = x + y\n",
        "\n",
        "print(z)"
      ],
      "metadata": {
        "id": "wseMKt3BzfJX"
      },
      "execution_count": null,
      "outputs": []
    },
    {
      "cell_type": "code",
      "source": [
        ""
      ],
      "metadata": {
        "id": "CKTA2GLyzm-U"
      },
      "execution_count": null,
      "outputs": []
    }
  ]
}