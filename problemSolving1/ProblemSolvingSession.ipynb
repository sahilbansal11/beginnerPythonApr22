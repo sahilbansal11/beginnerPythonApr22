{
 "cells": [
  {
   "cell_type": "markdown",
   "id": "eaa13ae4-5a4a-41ae-b924-429f04b92ba4",
   "metadata": {},
   "source": [
    "## Check for pair sum\n",
    "- Given an Array of integers B, and a target sum A.\n",
    "- Check if there exists a pair (i,j) such that Bi + Bj = A and i!=j.\n",
    "#### Input:\n",
    "- First argument A is the Target sum, and second argument is the array B\n",
    "#### output:\n",
    "- Return an integer value 1 if there exists such pair, else return 0."
   ]
  },
  {
   "cell_type": "code",
   "execution_count": 11,
   "id": "caa3e67b-ec99-4854-9741-1125c4c3749d",
   "metadata": {},
   "outputs": [],
   "source": [
    "A = 8\n",
    "B = [3, 5, 1, 2, 1, 2]"
   ]
  },
  {
   "cell_type": "code",
   "execution_count": 12,
   "id": "b13fe317-47f3-4c08-b9bf-c8de5791e855",
   "metadata": {},
   "outputs": [],
   "source": [
    "def parisum(A, B):\n",
    "    n = len(B)\n",
    "    for i in range(n):\n",
    "        for j in range(n):\n",
    "            if B[i] + B[j] == A and i != j:\n",
    "                return 1\n",
    "            # else:\n",
    "            #     return 0\n",
    "    return 0"
   ]
  },
  {
   "cell_type": "code",
   "execution_count": 13,
   "id": "cf87ec13-83ba-4a8f-8ac9-db16a5d86a6b",
   "metadata": {},
   "outputs": [
    {
     "data": {
      "text/plain": [
       "1"
      ]
     },
     "execution_count": 13,
     "metadata": {},
     "output_type": "execute_result"
    }
   ],
   "source": [
    "parisum(A, B)"
   ]
  },
  {
   "cell_type": "code",
   "execution_count": null,
   "id": "c28b6e98-cdfe-425a-9d72-259dbd3f5f4b",
   "metadata": {},
   "outputs": [],
   "source": []
  },
  {
   "cell_type": "code",
   "execution_count": null,
   "id": "3260ed41-b4b7-4ea8-a45f-38d38af04fa6",
   "metadata": {},
   "outputs": [],
   "source": []
  },
  {
   "cell_type": "code",
   "execution_count": null,
   "id": "838c6779-f477-45c2-8476-40a3c8769fb6",
   "metadata": {},
   "outputs": [],
   "source": []
  },
  {
   "cell_type": "code",
   "execution_count": null,
   "id": "03e72988-ba7f-42c8-9866-3e282b1cfb42",
   "metadata": {},
   "outputs": [],
   "source": []
  },
  {
   "cell_type": "code",
   "execution_count": null,
   "id": "a0b94730-f574-4ac6-8ab5-70edf0c87ab6",
   "metadata": {},
   "outputs": [],
   "source": []
  },
  {
   "cell_type": "code",
   "execution_count": null,
   "id": "e9267eaa-6d07-426e-8957-a49e3039201d",
   "metadata": {},
   "outputs": [],
   "source": []
  },
  {
   "cell_type": "code",
   "execution_count": null,
   "id": "d0210d76-94e5-49dd-8a12-3b3dc15f3520",
   "metadata": {},
   "outputs": [],
   "source": []
  },
  {
   "cell_type": "code",
   "execution_count": null,
   "id": "3908477f-6e8b-4d4b-a29c-95b9d5ac613b",
   "metadata": {},
   "outputs": [],
   "source": []
  },
  {
   "cell_type": "code",
   "execution_count": null,
   "id": "3733d10d-83bf-4a5e-8db2-6f544efd70dd",
   "metadata": {},
   "outputs": [],
   "source": []
  },
  {
   "cell_type": "code",
   "execution_count": null,
   "id": "ae55cde0-1a68-4b13-8945-c1cc81b41600",
   "metadata": {},
   "outputs": [],
   "source": []
  },
  {
   "cell_type": "code",
   "execution_count": null,
   "id": "02e98085-da89-4739-884d-a55b408e2ee3",
   "metadata": {},
   "outputs": [],
   "source": []
  },
  {
   "cell_type": "code",
   "execution_count": null,
   "id": "32ccc3d0-23be-4cab-b799-918bc71bcea5",
   "metadata": {},
   "outputs": [],
   "source": []
  },
  {
   "cell_type": "code",
   "execution_count": null,
   "id": "8789ab3e-e3e4-49de-9289-e93989b21ede",
   "metadata": {},
   "outputs": [],
   "source": []
  },
  {
   "cell_type": "code",
   "execution_count": null,
   "id": "aa84c573-418b-4286-9e6a-70c4e74e0c52",
   "metadata": {},
   "outputs": [],
   "source": []
  },
  {
   "cell_type": "code",
   "execution_count": null,
   "id": "2687e544-4248-4a6f-86be-d6c40a8b3b02",
   "metadata": {},
   "outputs": [],
   "source": []
  },
  {
   "cell_type": "code",
   "execution_count": null,
   "id": "86d7f803-7236-42a9-b1c6-6765b3d90746",
   "metadata": {},
   "outputs": [],
   "source": []
  },
  {
   "cell_type": "markdown",
   "id": "c7e5377a-cfbc-4c5d-9692-525a0cb5aa76",
   "metadata": {},
   "source": [
    "## Check for Identity Matrix\n",
    "- You are given a N X N square integer matrix A. You have to tell whether A is an identity matrix or not.\n",
    "\n",
    "- Identity matrix is a special square matrix whose main diagonal elements are equal to 1 and all other elements are 0.\n",
    "#### Input:\n",
    "- First and only argument is an integer matrix A.\n",
    "#### Output:\n",
    "- Return 1 if A is an identity matrix, else return 0."
   ]
  },
  {
   "cell_type": "code",
   "execution_count": 18,
   "id": "14826cf8-27ee-4f29-9168-0d9d0c0c9575",
   "metadata": {},
   "outputs": [],
   "source": [
    "sample = [[1, 1],\n",
    "  [0, 1]]"
   ]
  },
  {
   "cell_type": "code",
   "execution_count": 14,
   "id": "5c15085e-86d6-4b45-944e-6cb334e5f7b9",
   "metadata": {},
   "outputs": [],
   "source": [
    "def identity(A):\n",
    "    n = len(A)\n",
    "    for i in range(n):\n",
    "        for j in range(n):\n",
    "            if i == j and A[i][j] != 1:\n",
    "                return 0\n",
    "            if i != j and A[i][j] != 0:\n",
    "                return 0\n",
    "    return 1"
   ]
  },
  {
   "cell_type": "code",
   "execution_count": 17,
   "id": "50b56baa-f034-448f-9a9d-26dcf27e2326",
   "metadata": {},
   "outputs": [
    {
     "data": {
      "text/plain": [
       "0"
      ]
     },
     "execution_count": 17,
     "metadata": {},
     "output_type": "execute_result"
    }
   ],
   "source": [
    "identity(sample)"
   ]
  },
  {
   "cell_type": "code",
   "execution_count": 19,
   "id": "ea275f72-aef8-4772-b643-771112e072a9",
   "metadata": {},
   "outputs": [],
   "source": [
    "def a():\n",
    "    print(\"Before return statement\")\n",
    "    return 1\n",
    "    print(\"After return statement\")"
   ]
  },
  {
   "cell_type": "code",
   "execution_count": 20,
   "id": "508da21f-85d4-40d9-85e9-a3d692d948fd",
   "metadata": {},
   "outputs": [
    {
     "name": "stdout",
     "output_type": "stream",
     "text": [
      "Before return statement\n"
     ]
    },
    {
     "data": {
      "text/plain": [
       "1"
      ]
     },
     "execution_count": 20,
     "metadata": {},
     "output_type": "execute_result"
    }
   ],
   "source": [
    "a()"
   ]
  },
  {
   "cell_type": "code",
   "execution_count": null,
   "id": "5c9151c2-21e9-497c-b5f9-8b45a7101f38",
   "metadata": {},
   "outputs": [],
   "source": []
  },
  {
   "cell_type": "code",
   "execution_count": null,
   "id": "74967d93-7ef5-4983-94fa-14ed2cc8323b",
   "metadata": {},
   "outputs": [],
   "source": []
  },
  {
   "cell_type": "code",
   "execution_count": null,
   "id": "d2a2a589-b534-4ba8-b83d-1c69d2104850",
   "metadata": {},
   "outputs": [],
   "source": []
  },
  {
   "cell_type": "code",
   "execution_count": null,
   "id": "9242d661-9a16-49e0-9899-7f8a41ba48eb",
   "metadata": {},
   "outputs": [],
   "source": []
  },
  {
   "cell_type": "code",
   "execution_count": null,
   "id": "1b536a70-e6e2-4ec4-8601-c4bb47c8e6ac",
   "metadata": {},
   "outputs": [],
   "source": []
  },
  {
   "cell_type": "code",
   "execution_count": null,
   "id": "ec2544c3-030c-4145-8cc1-2c68dfc28662",
   "metadata": {},
   "outputs": [],
   "source": []
  },
  {
   "cell_type": "markdown",
   "id": "b4158d98-1aa3-430d-8bf2-c8afffd77713",
   "metadata": {},
   "source": [
    "## Continous List\n",
    "- Take input n\n",
    "#### Sample output:\n",
    "- If n = 3\n",
    "- [[1], [1, 2], [1, 2, 3]]"
   ]
  },
  {
   "cell_type": "code",
   "execution_count": 37,
   "id": "dcbf8894-af13-4504-bfa1-db3efb4e93e9",
   "metadata": {},
   "outputs": [
    {
     "name": "stdin",
     "output_type": "stream",
     "text": [
      " 10\n"
     ]
    }
   ],
   "source": [
    "n = int(input())"
   ]
  },
  {
   "cell_type": "code",
   "execution_count": 46,
   "id": "715ef56e-6ccb-4fcb-b4bb-1d28431e52d3",
   "metadata": {},
   "outputs": [],
   "source": [
    "def india(n):   \n",
    "    li = []\n",
    "    #inner_li = []\n",
    "    for i in range(1, n+1):\n",
    "        inner_li = []\n",
    "        for j in range(1, i+1):\n",
    "                inner_li.append(j)\n",
    "\n",
    "        li.append(inner_li)\n",
    "    return li"
   ]
  },
  {
   "cell_type": "code",
   "execution_count": 47,
   "id": "09b5b8cc-b087-4a53-ba8e-88bbba0a0cfc",
   "metadata": {},
   "outputs": [
    {
     "name": "stdout",
     "output_type": "stream",
     "text": [
      "[[1], [1, 2], [1, 2, 3]]\n"
     ]
    }
   ],
   "source": [
    "print(india(3))"
   ]
  },
  {
   "cell_type": "code",
   "execution_count": null,
   "id": "917ae1ec-5618-48c0-8cac-b2ec5f41bcd3",
   "metadata": {},
   "outputs": [],
   "source": []
  },
  {
   "cell_type": "code",
   "execution_count": null,
   "id": "f876856b-227a-4d77-bb1e-bb76b2492cdc",
   "metadata": {},
   "outputs": [],
   "source": []
  },
  {
   "cell_type": "code",
   "execution_count": null,
   "id": "6558ce54-1747-403f-84d8-a161091e3710",
   "metadata": {},
   "outputs": [],
   "source": []
  },
  {
   "cell_type": "code",
   "execution_count": null,
   "id": "f7eac060-dc95-4d07-b2f3-e756324b242d",
   "metadata": {},
   "outputs": [],
   "source": []
  },
  {
   "cell_type": "code",
   "execution_count": null,
   "id": "fdd790b6-10e8-4429-8b46-a2a59dcf007a",
   "metadata": {},
   "outputs": [],
   "source": []
  },
  {
   "cell_type": "code",
   "execution_count": null,
   "id": "7b212cf4-8523-4ca1-a88a-4d1e484b595a",
   "metadata": {},
   "outputs": [],
   "source": []
  },
  {
   "cell_type": "code",
   "execution_count": null,
   "id": "1e4e239d-69b6-43c2-a189-ab2e52ddd1aa",
   "metadata": {},
   "outputs": [],
   "source": []
  },
  {
   "cell_type": "code",
   "execution_count": null,
   "id": "6e984df8-c2fa-4331-93f4-dc181d577cbf",
   "metadata": {},
   "outputs": [],
   "source": []
  },
  {
   "cell_type": "code",
   "execution_count": null,
   "id": "f15de872-0b2e-4048-b3f1-1a6bc40f0db0",
   "metadata": {},
   "outputs": [],
   "source": []
  },
  {
   "cell_type": "code",
   "execution_count": null,
   "id": "fc18ea65-4ef1-42fc-a8d7-4489402e2b49",
   "metadata": {},
   "outputs": [],
   "source": []
  },
  {
   "cell_type": "markdown",
   "id": "d5420dc2-a4e9-4583-943c-6599d76a5831",
   "metadata": {
    "tags": []
   },
   "source": [
    "## Separate Odd even\n",
    "- You are given an integer T denoting the number of test cases. For each test case, you are given an integer array A.\n",
    "\n",
    "- You have to put the odd and even elements of array A in 2 separate arrays and print the new arrays.\n",
    "\n",
    "#### Input format:\n",
    "First line of the input contains a single integer T.\n",
    "\n",
    "For each test case:\n",
    "\n",
    "- First line consists of a single integer |A| denoting the length of array.\n",
    "- Second line consists of |A| space separated integers denoting the elements of array A.\n",
    "    \n",
    "#### Output Format:\n",
    "For each test case:\n",
    "\n",
    "- First line should contain an array of space separated integers containing all the odd elements of array A\n",
    "- Second line should contain an array of space separated integers containing all the even elements of array A\n",
    "\n",
    "## Sample input:\n",
    "- 2 \n",
    "- 5\n",
    "- 1 2 3 4 5\n",
    "- 3\n",
    "- 4 3 2\n",
    "\n",
    "## Sample output:\n",
    "- 1 3 5\n",
    "- 2 4\n",
    "- 3\n",
    "- 4 2"
   ]
  },
  {
   "cell_type": "code",
   "execution_count": null,
   "id": "30c26c2e-50f5-4eaa-93a6-f944ceddffb9",
   "metadata": {},
   "outputs": [],
   "source": []
  },
  {
   "cell_type": "code",
   "execution_count": null,
   "id": "6d6e51d0-4b56-4d33-a527-a58a9a7866ce",
   "metadata": {},
   "outputs": [],
   "source": []
  },
  {
   "cell_type": "code",
   "execution_count": null,
   "id": "850a95c5-9204-41c7-bdef-4788242db87e",
   "metadata": {},
   "outputs": [],
   "source": []
  },
  {
   "cell_type": "code",
   "execution_count": null,
   "id": "7468e584-692d-4e64-8480-6584b31a0524",
   "metadata": {},
   "outputs": [],
   "source": []
  },
  {
   "cell_type": "code",
   "execution_count": null,
   "id": "5183fb41-0541-4d81-87ab-35cd09caf053",
   "metadata": {},
   "outputs": [],
   "source": []
  },
  {
   "cell_type": "code",
   "execution_count": null,
   "id": "ade50c54-b011-4bf7-aec3-3dfa80e83439",
   "metadata": {},
   "outputs": [],
   "source": []
  },
  {
   "cell_type": "code",
   "execution_count": null,
   "id": "08b7657a-2eeb-41de-bb88-508ce66c467b",
   "metadata": {},
   "outputs": [],
   "source": []
  },
  {
   "cell_type": "code",
   "execution_count": null,
   "id": "d9d385ab-3ae8-408b-8145-935a0e9d4ee9",
   "metadata": {},
   "outputs": [],
   "source": []
  },
  {
   "cell_type": "code",
   "execution_count": null,
   "id": "e839daf5-318b-44a3-a058-4699b5032acb",
   "metadata": {},
   "outputs": [],
   "source": []
  },
  {
   "cell_type": "code",
   "execution_count": null,
   "id": "6204cdd1-0f35-46ed-ac51-9e540ccde7dc",
   "metadata": {},
   "outputs": [],
   "source": []
  },
  {
   "cell_type": "code",
   "execution_count": null,
   "id": "b347da2b-a672-4ca6-bac3-d88360185b85",
   "metadata": {},
   "outputs": [],
   "source": []
  },
  {
   "cell_type": "code",
   "execution_count": null,
   "id": "a66d8183-8fd9-442b-b95d-f513d7e0b5fb",
   "metadata": {},
   "outputs": [],
   "source": []
  },
  {
   "cell_type": "code",
   "execution_count": null,
   "id": "4fb23ad6-be52-4ed1-af19-2246e086e12b",
   "metadata": {},
   "outputs": [],
   "source": []
  },
  {
   "cell_type": "markdown",
   "id": "62476134-3aca-44ff-8ea0-9e42125f783e",
   "metadata": {},
   "source": [
    "## Right Shift Array by 1 position\n",
    "- Write a program that reads an integer array A from input and modifies the array by shifting each element to the right by one position and by shifting the last element to the first position.\n",
    "Return the modified array.\n",
    "\n",
    "## Sample input:\n",
    "- 5\n",
    "- 1 2 3 4 5\n",
    "\n",
    "## Sample Output:\n",
    "- 5 1 2 3 4\n"
   ]
  },
  {
   "cell_type": "code",
   "execution_count": null,
   "id": "a09bcbde-33f0-4942-8105-011879d0ecbf",
   "metadata": {},
   "outputs": [],
   "source": []
  },
  {
   "cell_type": "code",
   "execution_count": null,
   "id": "587234a6-69bb-47b9-b34c-1e7851e7703d",
   "metadata": {},
   "outputs": [],
   "source": []
  },
  {
   "cell_type": "code",
   "execution_count": null,
   "id": "7be7c63f-e702-4b2b-b230-11f9671dbb7c",
   "metadata": {},
   "outputs": [],
   "source": []
  },
  {
   "cell_type": "code",
   "execution_count": null,
   "id": "2cdf1be2-5a5b-49ac-b5c7-2464fc4f5d33",
   "metadata": {},
   "outputs": [],
   "source": []
  },
  {
   "cell_type": "code",
   "execution_count": null,
   "id": "8f7bfba8-3a14-443d-aa34-6118986df2d1",
   "metadata": {},
   "outputs": [],
   "source": []
  }
 ],
 "metadata": {
  "kernelspec": {
   "display_name": "Python 3 (ipykernel)",
   "language": "python",
   "name": "python3"
  },
  "language_info": {
   "codemirror_mode": {
    "name": "ipython",
    "version": 3
   },
   "file_extension": ".py",
   "mimetype": "text/x-python",
   "name": "python",
   "nbconvert_exporter": "python",
   "pygments_lexer": "ipython3",
   "version": "3.9.7"
  }
 },
 "nbformat": 4,
 "nbformat_minor": 5
}
