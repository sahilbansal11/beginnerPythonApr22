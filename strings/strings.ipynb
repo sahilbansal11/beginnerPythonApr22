{
  "nbformat": 4,
  "nbformat_minor": 0,
  "metadata": {
    "colab": {
      "name": "Strings Class.ipynb",
      "provenance": [],
      "collapsed_sections": []
    },
    "kernelspec": {
      "name": "python3",
      "display_name": "Python 3"
    },
    "language_info": {
      "name": "python"
    }
  },
  "cells": [
    {
      "cell_type": "markdown",
      "source": [
        "# Strings Class\n"
      ],
      "metadata": {
        "id": "ZmaiptUNs0bR"
      }
    },
    {
      "cell_type": "markdown",
      "source": [
        "## Introduction"
      ],
      "metadata": {
        "id": "9h22AYJctovT"
      }
    },
    {
      "cell_type": "code",
      "source": [
        "print(100 == \"100\")"
      ],
      "metadata": {
        "colab": {
          "base_uri": "https://localhost:8080/"
        },
        "id": "WXwk5tLktqMy",
        "outputId": "56419a32-b131-4dc6-bffb-4f015f1f016b"
      },
      "execution_count": null,
      "outputs": [
        {
          "output_type": "stream",
          "name": "stdout",
          "text": [
            "False\n"
          ]
        }
      ]
    },
    {
      "cell_type": "code",
      "source": [
        "print(type(100))"
      ],
      "metadata": {
        "colab": {
          "base_uri": "https://localhost:8080/"
        },
        "id": "ekQwCHVxtpuw",
        "outputId": "814f4249-6691-4596-e8fd-6f282b064bcd"
      },
      "execution_count": null,
      "outputs": [
        {
          "output_type": "stream",
          "name": "stdout",
          "text": [
            "<class 'int'>\n"
          ]
        }
      ]
    },
    {
      "cell_type": "code",
      "source": [
        "print(type(\"100\"))"
      ],
      "metadata": {
        "colab": {
          "base_uri": "https://localhost:8080/"
        },
        "id": "TJB7dZ6Gt27c",
        "outputId": "287810f3-9f72-43c7-e7b9-38572e795a33"
      },
      "execution_count": null,
      "outputs": [
        {
          "output_type": "stream",
          "name": "stdout",
          "text": [
            "<class 'str'>\n"
          ]
        }
      ]
    },
    {
      "cell_type": "code",
      "source": [
        "balance = 100\n",
        "# print(\"I have \" + balance + \" Rs in my account!\")\n",
        "print(\"I have \" + str(balance) + \" Rs in my account!\")"
      ],
      "metadata": {
        "colab": {
          "base_uri": "https://localhost:8080/"
        },
        "id": "7WvC55KDt3_e",
        "outputId": "6af7ec47-5e7c-4ebf-f802-167e16f02277"
      },
      "execution_count": null,
      "outputs": [
        {
          "output_type": "stream",
          "name": "stdout",
          "text": [
            "I have 100 Rs in my account!\n"
          ]
        }
      ]
    },
    {
      "cell_type": "code",
      "source": [
        ""
      ],
      "metadata": {
        "id": "SeZh9Hl-t7TK"
      },
      "execution_count": null,
      "outputs": []
    },
    {
      "cell_type": "markdown",
      "source": [
        "## Challenge 1:"
      ],
      "metadata": {
        "id": "Kd8aMcWp0xG3"
      }
    },
    {
      "cell_type": "markdown",
      "source": [
        "Take a string as input and print all the characters in a newline.\n",
        "\n",
        "Input:\n",
        "\"India\"\n",
        "\n",
        "Output:\n",
        "\n",
        "I\n",
        "\n",
        "n\n",
        "\n",
        "d\n",
        "\n",
        "i\n",
        "\n",
        "a\n"
      ],
      "metadata": {
        "id": "-sjOyqmK0zXe"
      }
    },
    {
      "cell_type": "code",
      "source": [
        "my_country = input()"
      ],
      "metadata": {
        "colab": {
          "base_uri": "https://localhost:8080/"
        },
        "id": "0NtI8Hb00zDu",
        "outputId": "8d0268e5-ef6f-4e72-af41-0e31b13595f8"
      },
      "execution_count": null,
      "outputs": [
        {
          "name": "stdout",
          "output_type": "stream",
          "text": [
            "India\n"
          ]
        }
      ]
    },
    {
      "cell_type": "code",
      "source": [
        "print(my_country)"
      ],
      "metadata": {
        "colab": {
          "base_uri": "https://localhost:8080/"
        },
        "id": "jz8oOvXA0yWD",
        "outputId": "1eddec0e-b956-4544-ba7d-01cfa223cb5e"
      },
      "execution_count": null,
      "outputs": [
        {
          "output_type": "stream",
          "name": "stdout",
          "text": [
            "India\n"
          ]
        }
      ]
    },
    {
      "cell_type": "code",
      "source": [
        "for c in my_country:\n",
        "  print(c)"
      ],
      "metadata": {
        "colab": {
          "base_uri": "https://localhost:8080/"
        },
        "id": "mt7RPiNV1KC2",
        "outputId": "18b6e59d-cfaf-4fa5-ffc0-bd22da764054"
      },
      "execution_count": null,
      "outputs": [
        {
          "output_type": "stream",
          "name": "stdout",
          "text": [
            "I\n",
            "n\n",
            "d\n",
            "i\n",
            "a\n"
          ]
        }
      ]
    },
    {
      "cell_type": "markdown",
      "source": [
        "## Challenge 2:\n",
        "\n",
        "Given a string as input, print the first and the last character of the string.\n",
        "\n",
        "Input: \"India\"\n",
        "\n",
        "Output:\n",
        "\n",
        "I\n",
        "\n",
        "a\n",
        "\n"
      ],
      "metadata": {
        "id": "fyXN-IuF1jP2"
      }
    },
    {
      "cell_type": "code",
      "source": [
        "my_country = input()\n"
      ],
      "metadata": {
        "colab": {
          "base_uri": "https://localhost:8080/"
        },
        "id": "rlq1w4uj1S92",
        "outputId": "1fa44b27-95dc-4445-da09-c8a65e1f1e67"
      },
      "execution_count": null,
      "outputs": [
        {
          "name": "stdout",
          "output_type": "stream",
          "text": [
            "India\n"
          ]
        }
      ]
    },
    {
      "cell_type": "code",
      "source": [
        "print(my_country)"
      ],
      "metadata": {
        "colab": {
          "base_uri": "https://localhost:8080/"
        },
        "id": "VApiwSjV1z3s",
        "outputId": "3f795c48-55c1-4260-e9a7-059d280268fd"
      },
      "execution_count": null,
      "outputs": [
        {
          "output_type": "stream",
          "name": "stdout",
          "text": [
            "India\n"
          ]
        }
      ]
    },
    {
      "cell_type": "code",
      "source": [
        "print(my_country[0])\n",
        "print(my_country[-1])"
      ],
      "metadata": {
        "colab": {
          "base_uri": "https://localhost:8080/"
        },
        "id": "NXlRXUih1195",
        "outputId": "1e17a15e-7334-4fe3-ca80-0119e40ec792"
      },
      "execution_count": null,
      "outputs": [
        {
          "output_type": "stream",
          "name": "stdout",
          "text": [
            "I\n",
            "a\n"
          ]
        }
      ]
    },
    {
      "cell_type": "code",
      "source": [
        "n = len(my_country)\n",
        "\n",
        "print(my_country[0])\n",
        "print(my_country[n - 1])"
      ],
      "metadata": {
        "colab": {
          "base_uri": "https://localhost:8080/"
        },
        "id": "vWkQR0lG3BYN",
        "outputId": "c9095530-67a2-4d2d-c6b1-0991aa0a2116"
      },
      "execution_count": null,
      "outputs": [
        {
          "output_type": "stream",
          "name": "stdout",
          "text": [
            "I\n",
            "a\n"
          ]
        }
      ]
    },
    {
      "cell_type": "code",
      "source": [
        ""
      ],
      "metadata": {
        "id": "8-S8iv5M3G-q"
      },
      "execution_count": null,
      "outputs": []
    },
    {
      "cell_type": "markdown",
      "source": [
        "# Challenge 3:\n",
        "\n",
        "Take a string as input and print the ASCII value of the characters in it.\n"
      ],
      "metadata": {
        "id": "Lf-zVe143Q77"
      }
    },
    {
      "cell_type": "code",
      "source": [
        "my_country = input()\n"
      ],
      "metadata": {
        "colab": {
          "base_uri": "https://localhost:8080/"
        },
        "id": "Qs7YRTF93Qfk",
        "outputId": "a6ba9a39-4830-4803-c76f-7b556fcbb9c0"
      },
      "execution_count": null,
      "outputs": [
        {
          "name": "stdout",
          "output_type": "stream",
          "text": [
            "India\n"
          ]
        }
      ]
    },
    {
      "cell_type": "code",
      "source": [
        "print(my_country)"
      ],
      "metadata": {
        "colab": {
          "base_uri": "https://localhost:8080/"
        },
        "id": "08fngeyD3eRV",
        "outputId": "1a66894a-6002-436e-a289-9121a8d4f180"
      },
      "execution_count": null,
      "outputs": [
        {
          "output_type": "stream",
          "name": "stdout",
          "text": [
            "India\n"
          ]
        }
      ]
    },
    {
      "cell_type": "code",
      "source": [
        "for c in my_country:\n",
        "  print(ord(c)) # prints the ASCII value for the character"
      ],
      "metadata": {
        "colab": {
          "base_uri": "https://localhost:8080/"
        },
        "id": "92uiByDK3g4k",
        "outputId": "cdc842ab-9e57-42b3-e4e8-047228c5cadd"
      },
      "execution_count": null,
      "outputs": [
        {
          "output_type": "stream",
          "name": "stdout",
          "text": [
            "73\n",
            "110\n",
            "100\n",
            "105\n",
            "97\n"
          ]
        }
      ]
    },
    {
      "cell_type": "code",
      "source": [
        "help(ord)"
      ],
      "metadata": {
        "colab": {
          "base_uri": "https://localhost:8080/"
        },
        "id": "9vEgMTfO3lNg",
        "outputId": "c95414d6-de0b-47ed-881c-56114f804079"
      },
      "execution_count": null,
      "outputs": [
        {
          "output_type": "stream",
          "name": "stdout",
          "text": [
            "Help on built-in function ord in module builtins:\n",
            "\n",
            "ord(c, /)\n",
            "    Return the Unicode code point for a one-character string.\n",
            "\n"
          ]
        }
      ]
    },
    {
      "cell_type": "code",
      "source": [
        "# Capital letters are smaller (smaller ascii value), irony\n",
        "# A = 65\n",
        "# a = 97"
      ],
      "metadata": {
        "id": "9TSCYCne3u_E"
      },
      "execution_count": null,
      "outputs": []
    },
    {
      "cell_type": "markdown",
      "source": [
        "# Challenge 4\n",
        "\n",
        "Given a string as input, print it 3 times without any space. (can't use a loop)\n",
        "\n",
        "Input:\n",
        "\"India\"\n",
        "\n",
        "Ouput:\n",
        "\"IndiaIndiaIndia\""
      ],
      "metadata": {
        "id": "Nv9J4aEB6lh0"
      }
    },
    {
      "cell_type": "code",
      "source": [
        "my_country = input()"
      ],
      "metadata": {
        "colab": {
          "base_uri": "https://localhost:8080/"
        },
        "id": "fzn3JJto4J-7",
        "outputId": "b794220b-ebfb-46f4-9f48-927ed6afc45a"
      },
      "execution_count": null,
      "outputs": [
        {
          "name": "stdout",
          "output_type": "stream",
          "text": [
            "India\n"
          ]
        }
      ]
    },
    {
      "cell_type": "code",
      "source": [
        "print(my_country * 3) # concatenating the same string 3 times\n"
      ],
      "metadata": {
        "colab": {
          "base_uri": "https://localhost:8080/"
        },
        "id": "CF9mcmoD6xIJ",
        "outputId": "9eb40ce1-051f-423c-d554-86b2b53eebfc"
      },
      "execution_count": null,
      "outputs": [
        {
          "output_type": "stream",
          "name": "stdout",
          "text": [
            "IndiaIndiaIndia\n"
          ]
        }
      ]
    },
    {
      "cell_type": "code",
      "source": [
        "print(my_country + my_country + my_country)"
      ],
      "metadata": {
        "colab": {
          "base_uri": "https://localhost:8080/"
        },
        "id": "76ffJhZ76z9i",
        "outputId": "0a02b2c4-2950-4dad-95c2-c7155abbab21"
      },
      "execution_count": null,
      "outputs": [
        {
          "output_type": "stream",
          "name": "stdout",
          "text": [
            "IndiaIndiaIndia\n"
          ]
        }
      ]
    },
    {
      "cell_type": "code",
      "source": [
        ""
      ],
      "metadata": {
        "id": "ggtXVJal69aU"
      },
      "execution_count": null,
      "outputs": []
    },
    {
      "cell_type": "markdown",
      "source": [
        "## Quiz"
      ],
      "metadata": {
        "id": "-vt4t_qo7Ybq"
      }
    },
    {
      "cell_type": "code",
      "source": [
        "city = \"Phoenix\"\n",
        "print(city*3)\n",
        "print(len(city*3))\n"
      ],
      "metadata": {
        "colab": {
          "base_uri": "https://localhost:8080/"
        },
        "id": "sF_nKlPN7ZDj",
        "outputId": "05efe23f-807a-4a07-8613-4bd3bcd8dff4"
      },
      "execution_count": null,
      "outputs": [
        {
          "output_type": "stream",
          "name": "stdout",
          "text": [
            "PhoenixPhoenixPhoenix\n",
            "21\n"
          ]
        }
      ]
    },
    {
      "cell_type": "code",
      "source": [
        ""
      ],
      "metadata": {
        "id": "el_DSP-H7aEt"
      },
      "execution_count": null,
      "outputs": []
    },
    {
      "cell_type": "markdown",
      "source": [
        "## Challenge 5: Given a string as input, count the no of upper case characters\n",
        "(A - Z) in it."
      ],
      "metadata": {
        "id": "WFn1Buv37mMY"
      }
    },
    {
      "cell_type": "code",
      "source": [
        "my_country = input()"
      ],
      "metadata": {
        "colab": {
          "base_uri": "https://localhost:8080/"
        },
        "id": "rzHCxyMw7pr3",
        "outputId": "188090a3-7271-4cfa-d437-09533e5aea6a"
      },
      "execution_count": null,
      "outputs": [
        {
          "name": "stdout",
          "output_type": "stream",
          "text": [
            "IndiaRocks\n"
          ]
        }
      ]
    },
    {
      "cell_type": "code",
      "source": [
        "cnt_upper = 0\n",
        "\n",
        "# A - 65\n",
        "# B - 66\n",
        "# ..\n",
        "# Z - 90\n",
        "for c in my_country:\n",
        "  if ord(c) >= 65 and ord(c) <= 90:\n",
        "    cnt_upper += 1\n",
        "\n",
        "print(cnt_upper)"
      ],
      "metadata": {
        "colab": {
          "base_uri": "https://localhost:8080/"
        },
        "id": "tHfAUTAm71_3",
        "outputId": "548e83a3-bec5-4b28-d1f7-f13e029c254d"
      },
      "execution_count": null,
      "outputs": [
        {
          "output_type": "stream",
          "name": "stdout",
          "text": [
            "2\n"
          ]
        }
      ]
    },
    {
      "cell_type": "code",
      "source": [
        "print('c'.isupper())"
      ],
      "metadata": {
        "colab": {
          "base_uri": "https://localhost:8080/"
        },
        "id": "FayiPuRy7-OA",
        "outputId": "6c0a76ce-bdea-4047-fae2-a7f1920cd836"
      },
      "execution_count": null,
      "outputs": [
        {
          "output_type": "stream",
          "name": "stdout",
          "text": [
            "False\n"
          ]
        }
      ]
    },
    {
      "cell_type": "code",
      "source": [
        "help('c'.isupper())"
      ],
      "metadata": {
        "colab": {
          "base_uri": "https://localhost:8080/"
        },
        "id": "iqhG28PR8eHV",
        "outputId": "50da28ac-2ac7-45f8-8526-403dcfad48d1"
      },
      "execution_count": null,
      "outputs": [
        {
          "output_type": "stream",
          "name": "stdout",
          "text": [
            "Help on built-in function isupper:\n",
            "\n",
            "isupper() method of builtins.str instance\n",
            "    Return True if the string is an uppercase string, False otherwise.\n",
            "    \n",
            "    A string is uppercase if all cased characters in the string are uppercase and\n",
            "    there is at least one cased character in the string.\n",
            "\n"
          ]
        }
      ]
    },
    {
      "cell_type": "code",
      "source": [
        "cnt_upper = 0\n",
        "\n",
        "# A - 65\n",
        "# B - 66\n",
        "# ..\n",
        "# Z - 90\n",
        "for c in my_country:\n",
        "  if c.isupper(): # it automatically checks if it's an upper case character\n",
        "    cnt_upper += 1\n",
        "\n",
        "print(cnt_upper)"
      ],
      "metadata": {
        "colab": {
          "base_uri": "https://localhost:8080/"
        },
        "id": "IyWnAG7c8kmG",
        "outputId": "d1ea10cc-b246-4dc2-a660-2a21bfa18a8c"
      },
      "execution_count": null,
      "outputs": [
        {
          "output_type": "stream",
          "name": "stdout",
          "text": [
            "2\n"
          ]
        }
      ]
    },
    {
      "cell_type": "markdown",
      "source": [
        "# Challenge 6:\n",
        "\n",
        "Convert the string to lower case.\n",
        "\n",
        "Input: \"INdiA\"\n",
        "Output: \"india\""
      ],
      "metadata": {
        "id": "Na2n0LUX9J7K"
      }
    },
    {
      "cell_type": "code",
      "source": [
        "my_name = input(\"What is your name?\") # case insensitive"
      ],
      "metadata": {
        "colab": {
          "base_uri": "https://localhost:8080/"
        },
        "id": "hw11UVE584Rx",
        "outputId": "f8e962ad-fbca-4561-eb44-9ce86cfbfa1d"
      },
      "execution_count": null,
      "outputs": [
        {
          "name": "stdout",
          "output_type": "stream",
          "text": [
            "What is your name?Sahil\n"
          ]
        }
      ]
    },
    {
      "cell_type": "code",
      "source": [
        "\"sahil\" == \"SAhil\" # say if I want to make them equal, convert both the strings\n",
        "# to the same case (lower or upper) become checking\n",
        "\n",
        "\"sahil\" == \"SAHIL\""
      ],
      "metadata": {
        "colab": {
          "base_uri": "https://localhost:8080/"
        },
        "id": "5iCKmTGH9Uqq",
        "outputId": "74224f76-62fc-49be-97c5-8408ad1b800e"
      },
      "execution_count": null,
      "outputs": [
        {
          "output_type": "execute_result",
          "data": {
            "text/plain": [
              "False"
            ]
          },
          "metadata": {},
          "execution_count": 61
        }
      ]
    },
    {
      "cell_type": "code",
      "source": [
        "for c in my_name:\n",
        "  print(c)\n",
        "  # new ascii value = old ascii value + 32\n",
        "  cnew = ord(c) + 32\n",
        "  print(cnew)\n",
        "  print(chr(cnew))\n",
        "  print('-----')\n",
        "\n",
        "\n",
        "print(my_name)\n",
        "\n",
        "# my_name[0] = 's' => Strings are immutable"
      ],
      "metadata": {
        "colab": {
          "base_uri": "https://localhost:8080/",
          "height": 565
        },
        "id": "osF43rns9jIR",
        "outputId": "027174ae-5553-4960-dcbe-8024f228b6b5"
      },
      "execution_count": null,
      "outputs": [
        {
          "output_type": "stream",
          "name": "stdout",
          "text": [
            "S\n",
            "115\n",
            "s\n",
            "-----\n",
            "A\n",
            "97\n",
            "a\n",
            "-----\n",
            "H\n",
            "104\n",
            "h\n",
            "-----\n",
            "I\n",
            "105\n",
            "i\n",
            "-----\n",
            "L\n",
            "108\n",
            "l\n",
            "-----\n",
            "SAHIL\n"
          ]
        },
        {
          "output_type": "error",
          "ename": "TypeError",
          "evalue": "ignored",
          "traceback": [
            "\u001b[0;31m---------------------------------------------------------------------------\u001b[0m",
            "\u001b[0;31mTypeError\u001b[0m                                 Traceback (most recent call last)",
            "\u001b[0;32m<ipython-input-76-57304f546e4e>\u001b[0m in \u001b[0;36m<module>\u001b[0;34m()\u001b[0m\n\u001b[1;32m     10\u001b[0m \u001b[0mprint\u001b[0m\u001b[0;34m(\u001b[0m\u001b[0mmy_name\u001b[0m\u001b[0;34m)\u001b[0m\u001b[0;34m\u001b[0m\u001b[0;34m\u001b[0m\u001b[0m\n\u001b[1;32m     11\u001b[0m \u001b[0;34m\u001b[0m\u001b[0m\n\u001b[0;32m---> 12\u001b[0;31m \u001b[0mmy_name\u001b[0m\u001b[0;34m[\u001b[0m\u001b[0;36m0\u001b[0m\u001b[0;34m]\u001b[0m \u001b[0;34m=\u001b[0m \u001b[0;34m's'\u001b[0m\u001b[0;34m\u001b[0m\u001b[0;34m\u001b[0m\u001b[0m\n\u001b[0m",
            "\u001b[0;31mTypeError\u001b[0m: 'str' object does not support item assignment"
          ]
        }
      ]
    },
    {
      "cell_type": "code",
      "source": [
        "# how to get to character from ASCII value\n",
        "ascii_value = 122\n",
        "\n",
        "print(chr(ascii_value)) # convert you ascii value to the actual character\n"
      ],
      "metadata": {
        "colab": {
          "base_uri": "https://localhost:8080/"
        },
        "id": "CSOQrydO-Ufr",
        "outputId": "9863bded-d9f6-4b59-e9b2-ab47ed4ebac3"
      },
      "execution_count": null,
      "outputs": [
        {
          "output_type": "stream",
          "name": "stdout",
          "text": [
            "z\n"
          ]
        }
      ]
    },
    {
      "cell_type": "code",
      "source": [
        "help(chr)"
      ],
      "metadata": {
        "colab": {
          "base_uri": "https://localhost:8080/"
        },
        "id": "D9j05NNL-p0T",
        "outputId": "fdcc9678-b16b-436c-c913-95b626c1de7e"
      },
      "execution_count": null,
      "outputs": [
        {
          "output_type": "stream",
          "name": "stdout",
          "text": [
            "Help on built-in function chr in module builtins:\n",
            "\n",
            "chr(i, /)\n",
            "    Return a Unicode string of one character with ordinal i; 0 <= i <= 0x10ffff.\n",
            "\n"
          ]
        }
      ]
    },
    {
      "cell_type": "code",
      "source": [
        "## SOLUTION\n",
        "\n",
        "res = '' # currently it's empty\n",
        "for c in my_name:\n",
        "  if c.isupper(): # only convert the upper case\n",
        "    print(c)\n",
        "    # new ascii value = old ascii value + 32\n",
        "    cnew = ord(c) + 32\n",
        "    print(cnew)\n",
        "    print(chr(cnew))\n",
        "    # add this lower case character to the result\n",
        "    res += chr(cnew)\n",
        "    print('res is:', res)\n",
        "    print('-----')\n",
        "  else: # add the lower case as it is\n",
        "    print('Adding as it is:')\n",
        "    print(c)\n",
        "    res += c\n",
        "\n",
        "\n",
        "print('Final res is:', res)"
      ],
      "metadata": {
        "colab": {
          "base_uri": "https://localhost:8080/"
        },
        "id": "Sx3vVvjC-tgm",
        "outputId": "13a128fe-3f91-44be-bcef-d12b7784549e"
      },
      "execution_count": null,
      "outputs": [
        {
          "output_type": "stream",
          "name": "stdout",
          "text": [
            "S\n",
            "115\n",
            "s\n",
            "res is: s\n",
            "-----\n",
            "Adding as it is:\n",
            "a\n",
            "Adding as it is:\n",
            "h\n",
            "Adding as it is:\n",
            "i\n",
            "Adding as it is:\n",
            "l\n",
            "Final res is: sahil\n"
          ]
        }
      ]
    },
    {
      "cell_type": "code",
      "source": [
        ""
      ],
      "metadata": {
        "id": "lMgSxe2UBQuV"
      },
      "execution_count": null,
      "outputs": []
    },
    {
      "cell_type": "markdown",
      "source": [
        "## Quiz"
      ],
      "metadata": {
        "id": "s67wYnGXEAX3"
      }
    },
    {
      "cell_type": "code",
      "source": [
        "s1 = \"Hello\"\n",
        "print(s1.upper()) # it creates a new string, can't modify s1"
      ],
      "metadata": {
        "colab": {
          "base_uri": "https://localhost:8080/"
        },
        "id": "hKByO6IhEBJ1",
        "outputId": "9f1e809b-53fd-421c-b888-5ff3449fcd17"
      },
      "execution_count": null,
      "outputs": [
        {
          "output_type": "stream",
          "name": "stdout",
          "text": [
            "HELLO\n"
          ]
        }
      ]
    },
    {
      "cell_type": "code",
      "source": [
        "s1 = \"Hello\"\n",
        "print(s1.lower()) # it creates a new string, can't modify s1"
      ],
      "metadata": {
        "colab": {
          "base_uri": "https://localhost:8080/"
        },
        "id": "MwF8cZGFEGqz",
        "outputId": "11baf98f-e81f-4b3f-be9f-aa3e205ecc0e"
      },
      "execution_count": null,
      "outputs": [
        {
          "output_type": "stream",
          "name": "stdout",
          "text": [
            "hello\n"
          ]
        }
      ]
    },
    {
      "cell_type": "code",
      "source": [
        "print(s1)"
      ],
      "metadata": {
        "colab": {
          "base_uri": "https://localhost:8080/"
        },
        "id": "8T9aHiE4EJXl",
        "outputId": "f85a1f85-2220-4138-c3ef-adfd1c9ae281"
      },
      "execution_count": null,
      "outputs": [
        {
          "output_type": "stream",
          "name": "stdout",
          "text": [
            "Hello\n"
          ]
        }
      ]
    },
    {
      "cell_type": "code",
      "source": [
        "\n",
        "def spongebob(str):\n",
        "  new_str = \"\"\n",
        "  for ind, char in enumerate(str):\n",
        "    if ind % 2 == 1:\n",
        "      new_str += char.lower()\n",
        "    else:\n",
        "      new_str += char.upper()\n",
        "  return new_str\n",
        "\n",
        "spongebob(\"India\")"
      ],
      "metadata": {
        "colab": {
          "base_uri": "https://localhost:8080/",
          "height": 35
        },
        "id": "IjyzOu9cENpn",
        "outputId": "e42a1b74-7f50-45b9-99d6-d7ed587de459"
      },
      "execution_count": null,
      "outputs": [
        {
          "output_type": "execute_result",
          "data": {
            "text/plain": [
              "'InDiA'"
            ],
            "application/vnd.google.colaboratory.intrinsic+json": {
              "type": "string"
            }
          },
          "metadata": {},
          "execution_count": 88
        }
      ]
    },
    {
      "cell_type": "code",
      "source": [
        "spongebob(\"Scaler\")"
      ],
      "metadata": {
        "colab": {
          "base_uri": "https://localhost:8080/",
          "height": 35
        },
        "id": "sm19MV-HEg6l",
        "outputId": "7e34285e-87fb-4faa-bdb4-cb2bf159b916"
      },
      "execution_count": null,
      "outputs": [
        {
          "output_type": "execute_result",
          "data": {
            "text/plain": [
              "'ScAlEr'"
            ],
            "application/vnd.google.colaboratory.intrinsic+json": {
              "type": "string"
            }
          },
          "metadata": {},
          "execution_count": 90
        }
      ]
    },
    {
      "cell_type": "code",
      "source": [
        ""
      ],
      "metadata": {
        "id": "u7uYVN63EiPc"
      },
      "execution_count": null,
      "outputs": []
    },
    {
      "cell_type": "markdown",
      "source": [
        "# in is a keyword\n",
        "\n",
        "check whether something is present in the string or not"
      ],
      "metadata": {
        "id": "CAooLpRlE84E"
      }
    },
    {
      "cell_type": "code",
      "source": [
        "s = \"123456\"\n",
        "\n",
        "print('6' in s) # True\n",
        "\n",
        "print('9' in s) # False"
      ],
      "metadata": {
        "colab": {
          "base_uri": "https://localhost:8080/"
        },
        "id": "dI9T6-BrFAkz",
        "outputId": "2cf90f70-0bab-4fff-acdf-fd3c46410144"
      },
      "execution_count": null,
      "outputs": [
        {
          "output_type": "stream",
          "name": "stdout",
          "text": [
            "True\n",
            "False\n"
          ]
        }
      ]
    },
    {
      "cell_type": "code",
      "source": [
        "s = \"This is a famous quote from someone that we should focus on doing the right things and not on the result\""
      ],
      "metadata": {
        "id": "5Qi5GxfOFGiX"
      },
      "execution_count": null,
      "outputs": []
    },
    {
      "cell_type": "code",
      "source": [
        "print(\"the\" in s)"
      ],
      "metadata": {
        "colab": {
          "base_uri": "https://localhost:8080/"
        },
        "id": "qIWa_01SFQbG",
        "outputId": "50886831-479c-4cf8-bc4b-19f4c36b3555"
      },
      "execution_count": null,
      "outputs": [
        {
          "output_type": "stream",
          "name": "stdout",
          "text": [
            "True\n"
          ]
        }
      ]
    },
    {
      "cell_type": "code",
      "source": [
        "print(\"fam\" in s)"
      ],
      "metadata": {
        "colab": {
          "base_uri": "https://localhost:8080/"
        },
        "id": "O_WxHpYgFTFO",
        "outputId": "4d0d9b51-2af6-4198-bd47-005f85e4823e"
      },
      "execution_count": null,
      "outputs": [
        {
          "output_type": "stream",
          "name": "stdout",
          "text": [
            "True\n"
          ]
        }
      ]
    },
    {
      "cell_type": "code",
      "source": [
        "print(\"famousquote\" in s)"
      ],
      "metadata": {
        "colab": {
          "base_uri": "https://localhost:8080/"
        },
        "id": "bjJw6_FoFYQd",
        "outputId": "c447d8c6-ab30-4ccc-9c0e-7469751e7a0f"
      },
      "execution_count": null,
      "outputs": [
        {
          "output_type": "stream",
          "name": "stdout",
          "text": [
            "False\n"
          ]
        }
      ]
    },
    {
      "cell_type": "code",
      "source": [
        ""
      ],
      "metadata": {
        "id": "lQEZLG28FfEo"
      },
      "execution_count": null,
      "outputs": []
    },
    {
      "cell_type": "markdown",
      "source": [
        "## Quiz"
      ],
      "metadata": {
        "id": "I-xJleoyFp07"
      }
    },
    {
      "cell_type": "code",
      "source": [
        "def unique(str):\n",
        "  letters = []\n",
        "  \n",
        "  for char in str:\n",
        "    if char not in letters:\n",
        "      letters.append(char)\n",
        "\n",
        "  return letters\n",
        "\n",
        "\n",
        "print(unique('Apple'))"
      ],
      "metadata": {
        "colab": {
          "base_uri": "https://localhost:8080/"
        },
        "id": "xtqX-PPwFqJo",
        "outputId": "8ff42a38-8f1f-4472-85ab-11cef5fdaf3f"
      },
      "execution_count": null,
      "outputs": [
        {
          "output_type": "stream",
          "name": "stdout",
          "text": [
            "['A', 'p', 'l', 'e']\n"
          ]
        }
      ]
    },
    {
      "cell_type": "code",
      "source": [
        ""
      ],
      "metadata": {
        "id": "fYbjRWahGUOv"
      },
      "execution_count": null,
      "outputs": []
    },
    {
      "cell_type": "markdown",
      "source": [
        "## Doubts"
      ],
      "metadata": {
        "id": "R-nQpWJgHi75"
      }
    },
    {
      "cell_type": "code",
      "source": [
        "x = \"abc\"\n",
        "print(x)\n",
        "\n",
        "x = \"def\" # different string\n",
        "print(x)\n",
        "\n",
        "x[0] = 'a'"
      ],
      "metadata": {
        "id": "NetTFn0pHjaB",
        "outputId": "e128f27c-287e-4d3b-a1e0-c21eac8084ae",
        "colab": {
          "base_uri": "https://localhost:8080/",
          "height": 235
        }
      },
      "execution_count": null,
      "outputs": [
        {
          "output_type": "stream",
          "name": "stdout",
          "text": [
            "abc\n",
            "def\n"
          ]
        },
        {
          "output_type": "error",
          "ename": "TypeError",
          "evalue": "ignored",
          "traceback": [
            "\u001b[0;31m---------------------------------------------------------------------------\u001b[0m",
            "\u001b[0;31mTypeError\u001b[0m                                 Traceback (most recent call last)",
            "\u001b[0;32m<ipython-input-101-e49a59d424a7>\u001b[0m in \u001b[0;36m<module>\u001b[0;34m()\u001b[0m\n\u001b[1;32m      5\u001b[0m \u001b[0mprint\u001b[0m\u001b[0;34m(\u001b[0m\u001b[0mx\u001b[0m\u001b[0;34m)\u001b[0m\u001b[0;34m\u001b[0m\u001b[0;34m\u001b[0m\u001b[0m\n\u001b[1;32m      6\u001b[0m \u001b[0;34m\u001b[0m\u001b[0m\n\u001b[0;32m----> 7\u001b[0;31m \u001b[0mx\u001b[0m\u001b[0;34m[\u001b[0m\u001b[0;36m0\u001b[0m\u001b[0;34m]\u001b[0m \u001b[0;34m=\u001b[0m \u001b[0;34m'a'\u001b[0m\u001b[0;34m\u001b[0m\u001b[0;34m\u001b[0m\u001b[0m\n\u001b[0m",
            "\u001b[0;31mTypeError\u001b[0m: 'str' object does not support item assignment"
          ]
        }
      ]
    },
    {
      "cell_type": "code",
      "source": [
        ""
      ],
      "metadata": {
        "id": "c4YhtncBHmEX"
      },
      "execution_count": null,
      "outputs": []
    }
  ]
}